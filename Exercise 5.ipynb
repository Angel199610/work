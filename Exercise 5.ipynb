{
 "cells": [
  {
   "cell_type": "markdown",
   "metadata": {},
   "source": [
    "EXERCISE 3"
   ]
  },
  {
   "cell_type": "code",
   "execution_count": null,
   "metadata": {},
   "outputs": [],
   "source": [
    "#list of 4 elements\n",
    "list_1 = [\"men\", \"women\", \"girls\", \"mothers\"]"
   ]
  },
  {
   "cell_type": "code",
   "execution_count": 1,
   "metadata": {},
   "outputs": [
    {
     "name": "stdout",
     "output_type": "stream",
     "text": [
      "<class 'list'>\n"
     ]
    }
   ],
   "source": [
    "list_1 = [\"men\", \"women\", \"girls\", \"mothers\"]\n",
    "print((type(list_1)))"
   ]
  },
  {
   "cell_type": "code",
   "execution_count": 4,
   "metadata": {},
   "outputs": [
    {
     "name": "stdout",
     "output_type": "stream",
     "text": [
      "(7.5, 5, 4.4, 3.75, 2.25, 9.99, 7.99, 7.49, 7.0, 6.29)\n"
     ]
    }
   ],
   "source": [
    "import numpy as np\n",
    "Kfc = (7.5,5,4.4,3.75,2.25)\n",
    "Cj = (9.99,7.99,7.49,7.00,6.29)\n",
    "total_sum = (Kfc + Cj)\n",
    "print(total_sum)"
   ]
  },
  {
   "cell_type": "code",
   "execution_count": 6,
   "metadata": {},
   "outputs": [
    {
     "name": "stdout",
     "output_type": "stream",
     "text": [
      "float64\n"
     ]
    }
   ],
   "source": [
    "#getting arrays\n",
    "import numpy as np\n",
    "Kfc_array= np.array([(7.5,5,4.4,3.75,2.25)])\n",
    "print(Kfc_array.dtype) "
   ]
  },
  {
   "cell_type": "code",
   "execution_count": 7,
   "metadata": {},
   "outputs": [
    {
     "name": "stdout",
     "output_type": "stream",
     "text": [
      "float64\n"
     ]
    }
   ],
   "source": [
    "#getting arrays\n",
    "import numpy as np\n",
    "Cj_array = np.array([9.99,7.99,7.49,7.00,6.29])\n",
    "print(Cj_array.dtype)"
   ]
  },
  {
   "cell_type": "code",
   "execution_count": 8,
   "metadata": {},
   "outputs": [
    {
     "name": "stdout",
     "output_type": "stream",
     "text": [
      "[[-2.49 -2.99 -3.09 -3.25 -4.04]]\n"
     ]
    }
   ],
   "source": [
    "#Creating an object\n",
    "difference = (Kfc_array-Cj_array)\n",
    "print(Kfc_array - Cj_array)"
   ]
  },
  {
   "cell_type": "code",
   "execution_count": 9,
   "metadata": {},
   "outputs": [
    {
     "data": {
      "text/plain": [
       "-3.1719999999999997"
      ]
     },
     "execution_count": 9,
     "metadata": {},
     "output_type": "execute_result"
    }
   ],
   "source": [
    "#Mean of the difference\n",
    "np.mean(difference)"
   ]
  },
  {
   "cell_type": "code",
   "execution_count": 10,
   "metadata": {},
   "outputs": [
    {
     "data": {
      "text/plain": [
       "0.502887661411572"
      ]
     },
     "execution_count": 10,
     "metadata": {},
     "output_type": "execute_result"
    }
   ],
   "source": [
    "#standard deviation for the differnence\n",
    "np.std(Kfc_array-Cj_array)"
   ]
  },
  {
   "cell_type": "code",
   "execution_count": 6,
   "metadata": {},
   "outputs": [
    {
     "name": "stdout",
     "output_type": "stream",
     "text": [
      "float64\n"
     ]
    }
   ],
   "source": [
    "#creating datatypes\n",
    "import numpy as np\n",
    "CJ_array = np.array([9.9, 7.99, 7.99,7.49,7.00])\n",
    "print(CJ_array.dtype)"
   ]
  },
  {
   "cell_type": "code",
   "execution_count": 2,
   "metadata": {},
   "outputs": [
    {
     "name": "stdout",
     "output_type": "stream",
     "text": [
      "float64\n"
     ]
    }
   ],
   "source": [
    "#creating datatypes\n",
    "import numpy as np\n",
    "KFC_array = np.array([7.5, 5, 4.4, 3.75, 2.25])\n",
    "print(KFC_array.dtype)\n"
   ]
  }
 ],
 "metadata": {
  "kernelspec": {
   "display_name": "Python 3",
   "language": "python",
   "name": "python3"
  },
  "language_info": {
   "codemirror_mode": {
    "name": "ipython",
    "version": 3
   },
   "file_extension": ".py",
   "mimetype": "text/x-python",
   "name": "python",
   "nbconvert_exporter": "python",
   "pygments_lexer": "ipython3",
   "version": "3.11.4"
  },
  "orig_nbformat": 4
 },
 "nbformat": 4,
 "nbformat_minor": 2
}
